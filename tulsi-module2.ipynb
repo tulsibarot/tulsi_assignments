{
 "cells": [
  {
   "cell_type": "code",
   "execution_count": null,
   "id": "84a5a7a9",
   "metadata": {},
   "outputs": [],
   "source": [
    "#1.Write a Python program to check if a number is positive, negative or zero. \n",
    "num=int(input())\n",
    "if num>0:\n",
    "    print(\"number is positive\")\n",
    "elif num<0:\n",
    "    print(\"number is negative\")\n",
    "else:\n",
    "    print(\"number is zero\")\n",
    "    "
   ]
  },
  {
   "cell_type": "code",
   "execution_count": null,
   "id": "07d91bf5",
   "metadata": {},
   "outputs": [],
   "source": [
    "#2.Write a Python program to get the Factorial number of given number.\n",
    "n=int(input())\n",
    "fact=1\n",
    "if n==0:\n",
    "    print(\"the factorial of n is 1\")\n",
    "elif n<0:\n",
    "    (\"factorial doesn't exist of negative number\")\n",
    "else:\n",
    "    for i in range(1,n+1):\n",
    "                    fact*=i\n",
    "print(\"the factorial of\",n,\"is\",fact)"
   ]
  },
  {
   "cell_type": "code",
   "execution_count": null,
   "id": "521feb97",
   "metadata": {},
   "outputs": [],
   "source": [
    "#3.Write a Python program to get the Fibonacci series of given range.\n",
    "n=int(input(\"enter the number\"))\n",
    "a=0\n",
    "b=1\n",
    "for i in range(1,n+1):\n",
    "    print(a) \n",
    "    c=a+b\n",
    "    a=b \n",
    "    b=c \n",
    "        \n",
    "    \n",
    "\n"
   ]
  },
  {
   "cell_type": "code",
   "execution_count": null,
   "id": "7d5e8eb8",
   "metadata": {},
   "outputs": [],
   "source": [
    "#4.How memory is managed in Python? \n",
    "#Memory management in Python involves a private heap containing all Python objects and data\n",
    "#structures.The management of this private heap is ensured internally by the Python memory manager. "
   ]
  },
  {
   "cell_type": "code",
   "execution_count": null,
   "id": "5b7f13c2",
   "metadata": {},
   "outputs": [],
   "source": [
    "#5.What is the purpose continue statement in python? \n",
    "#The continue statement in Python returns the control to the beginning of the while loop.\n",
    "#The continue statement rejects all the remaining statements in the current iteration of \n",
    "#the loop and moves the control back to the top of the loop."
   ]
  },
  {
   "cell_type": "code",
   "execution_count": null,
   "id": "9b39e5b4",
   "metadata": {},
   "outputs": [],
   "source": [
    "#6.Write a Python program that swap two number with temp variable and without temp variable.\n",
    "#without temp\n",
    "a=int(input(\"enter the value of a:\"))\n",
    "b=int(input(\"enter the value of b:\"))\n",
    "a=a+b5\n",
    "b=a-b\n",
    "a=a-b\n",
    "print(\"the value of a and b after swap:\",a,b)"
   ]
  },
  {
   "cell_type": "code",
   "execution_count": null,
   "id": "13173527",
   "metadata": {},
   "outputs": [],
   "source": [
    "#with temp\n",
    "a=int(input(\"enter the value of a:\"))\n",
    "b=int(input(\"enter the value of b:\"))\n",
    "c=0\n",
    "c=a\n",
    "a=b\n",
    "b=c\n",
    "print(\"the value of a and b after swap:\",a,b)\n"
   ]
  },
  {
   "cell_type": "code",
   "execution_count": null,
   "id": "8b20ab86",
   "metadata": {},
   "outputs": [],
   "source": [
    "#7.Write a Python program to find whether a given number is even or odd, print out an appropriate message to the user.\n",
    "num=int(input(\"enter the number:\"))\n",
    "if num%2==0:\n",
    "    print(\"number is even\")\n",
    "elif num==0:\n",
    "    print(\"number is zero\")\n",
    "else:\n",
    "    print(\"number is odd\")"
   ]
  },
  {
   "cell_type": "code",
   "execution_count": null,
   "id": "a3f80b7c",
   "metadata": {},
   "outputs": [],
   "source": [
    "#8.Write a Python program to test whether a passed letter is a vowel or not. \n",
    "letter=input(\"enter the letter:\")\n",
    "l=[\"a\",\"e\",\"i\",\"o\",\"u\"]\n",
    "if letter in l:\n",
    "    print(\"letter is vowel\")\n",
    "else:\n",
    "    print(\"letter is not vowel\")\n"
   ]
  },
  {
   "cell_type": "code",
   "execution_count": null,
   "id": "e99950ed",
   "metadata": {},
   "outputs": [],
   "source": [
    "#9.Write a Python program to sum of three given integers.However, if two values are equal sum will be zero.\n",
    "a=int(input(\"enter the value of a:\"))\n",
    "b=int(input(\"enter the value of b:\"))\n",
    "c=int(input(\"enter the value of c:\"))\n",
    "if a==b or b==c or c==a:\n",
    "    sum=0\n",
    "else:\n",
    "    sum=a+b+c\n",
    "print(sum)\n"
   ]
  },
  {
   "cell_type": "code",
   "execution_count": null,
   "id": "1db429cc",
   "metadata": {},
   "outputs": [],
   "source": [
    "#10.Write a Python program that will return true ifthe two given integer values are equal or their sum or difference is 5.\n",
    "a=int(input(\"enter the value of a:\"))\n",
    "b=int(input(\"enter the value of b:\"))\n",
    "if a==b or a+b==5 or a-b==5:\n",
    "    print(\"true\")\n",
    "else:\n",
    "    print(\"false\")"
   ]
  },
  {
   "cell_type": "code",
   "execution_count": null,
   "id": "beac8f15",
   "metadata": {},
   "outputs": [],
   "source": [
    "#11.Write a python program to sum of the first n positive integers.\n",
    "n=int(input(\"enter the value of n:\"))\n",
    "for i in range(1,n+1):\n",
    "    sum=((n*n+1)/2)\n",
    "print(int(sum))    "
   ]
  },
  {
   "cell_type": "code",
   "execution_count": null,
   "id": "30efe848",
   "metadata": {},
   "outputs": [],
   "source": [
    "#12.Write a Python program to calculate the length of a string.\n",
    "s=input(\"enter the string:\")\n",
    "length=len(s)\n",
    "print(\"length of string is:\",length)"
   ]
  },
  {
   "cell_type": "code",
   "execution_count": null,
   "id": "f4c8401d",
   "metadata": {},
   "outputs": [],
   "source": [
    "#13.Write a Python program to count the number of characters (character frequency) in a string \n",
    "s=input(\"enter the string:\")\n",
    "char=input(\"enter the character for check the frequency:\")\n",
    "print(s.count(char))"
   ]
  },
  {
   "cell_type": "code",
   "execution_count": null,
   "id": "c4221b9c",
   "metadata": {},
   "outputs": [],
   "source": [
    "#14.What are negative indexes and why are they used? \n",
    "\"\"\"Python supports “indexing from the end”, that is, negative indexing. This means the last value of a sequence has an index\n",
    "of -1, the second last -2, and so on. it is used when we want to pick values from the end (right side) of an iterable.it is \n",
    "used to remove any new-line spaces from the string and allow the string to except the last character that is given as S[:-1].\"\"\""
   ]
  },
  {
   "cell_type": "code",
   "execution_count": null,
   "id": "ef78c166",
   "metadata": {},
   "outputs": [],
   "source": [
    "#15.Write a Python program to count occurrences of a substring in a string. \n",
    "s=input(\"enter the string:\")\n",
    "subs=input(\"enter the substring for check the occurrences:\")\n",
    "print(s.count(subs))"
   ]
  },
  {
   "cell_type": "code",
   "execution_count": null,
   "id": "13af03a3",
   "metadata": {},
   "outputs": [],
   "source": [
    "#16.Write a Python program to count the occurrences of each word in a given sentence. \n",
    "tr = input(\"Enter String : \")\n",
    "word = input(\"Enter Word : \")\n",
    "\n",
    "count_word = str.count(word)\n",
    "print(\"Your\",word,\"Appeared\",count_word,\"times\")\n"
   ]
  },
  {
   "cell_type": "code",
   "execution_count": null,
   "id": "1ea17f3f",
   "metadata": {},
   "outputs": [],
   "source": [
    "#17.Write a Python program to get a single string from two given strings,separated by a space and swap the first two\n",
    "#characters of each string.\n",
    "s1='tulsi'\n",
    "s2='barot'\n",
    "a=s2[:2]+s1[2:]\n",
    "b=s1[:2]+s2[2:]\n",
    "print(a,b)\n",
    "#balsi turot"
   ]
  },
  {
   "cell_type": "code",
   "execution_count": null,
   "id": "2e97926e",
   "metadata": {},
   "outputs": [],
   "source": [
    "#18.Write a Python program to add (ing) at the end of a given string (length should be at least 3). If the given string \n",
    "#already ends with (ing) then add (l) insteadif the string length of the given string is less than 3,leave it unchanged.\n",
    "str=input(\"enter the string:\")\n",
    "len_str = len(str)\n",
    "if len_str > 3:\n",
    "    if str.endswith(\"ing\"):\n",
    "         print(str+\"l\")\n",
    "    else:\n",
    "        print(str+\"ing\")\n",
    "else:\n",
    "    print(str)"
   ]
  },
  {
   "cell_type": "code",
   "execution_count": null,
   "id": "1a9d7112",
   "metadata": {},
   "outputs": [],
   "source": [
    "#19.Write a Python program to find the first appearance of the substring 'not'and 'poor' froma given string, if 'poor' follows \n",
    "#the 'not', replace the whole 'not'...'poor'substring with 'good'. Return the resulting string.''''\n",
    "#s=input(\"enter the string:\");\n",
    "s=\"he is not poor student\"\n",
    "n=s.find(\"not\")\n",
    "p=s.find(\"poor\")\n",
    "if n < p:\n",
    "    print(s.replace(s[n:p+4],'good'))\n",
    "else:\n",
    "    print(s)\n",
    "    \n",
    "\n"
   ]
  },
  {
   "cell_type": "code",
   "execution_count": null,
   "id": "8f099b9a",
   "metadata": {},
   "outputs": [],
   "source": [
    "#20.Write a Python function that takes a list of words and returns the length of the longest one.\n",
    "def find_longest_word(words_list):\n",
    "    word_len = []\n",
    "    for n in words_list:\n",
    "        word_len.append((len(n), n))\n",
    "    word_len.sort()\n",
    "    return word_len[-1][0], word_len[-1][1]\n",
    "result = find_longest_word([\"Python\", \"Exercises\", \"Backend\"])\n",
    "print(\"\\nLongest word: \",result[1])\n",
    "print(\"Length of the longest word: \",result[0])"
   ]
  },
  {
   "cell_type": "code",
   "execution_count": null,
   "id": "b8241b8c",
   "metadata": {},
   "outputs": [],
   "source": [
    "#21.Write a Python function to reverses a string if its length is a multiple of 4.\n",
    "name=input(\"enter a name:\")\n",
    "if(len(name)%4==0):\n",
    "    print(name[::-1])\n",
    "else:\n",
    "    print(\"cant\")"
   ]
  },
  {
   "cell_type": "code",
   "execution_count": 2,
   "id": "7111dd47",
   "metadata": {},
   "outputs": [
    {
     "name": "stdout",
     "output_type": "stream",
     "text": [
      "we\n",
      "wewe\n"
     ]
    }
   ],
   "source": [
    "#22.Write a Python program to get a string made of the first 2 and the last 2 chars from a given a string. \n",
    "#Ifthe string length islessthan 2,return instead of the empty string.\n",
    "#Sample String:w3resource'\n",
    "#Expected Result: 'w3ce'\n",
    "#Sample String: 'w3'\n",
    "#Expected Result: 'w3w3'\n",
    "#Sample String: ' w'\n",
    "#Expected Result: Empty String'''\n",
    "s=input()\n",
    "len=len(s)\n",
    "if len<2:\n",
    "    print(\"empty string\")\n",
    "else:\n",
    "    print(s[:2]+s[-2:])\n"
   ]
  },
  {
   "cell_type": "code",
   "execution_count": null,
   "id": "4e2ebaa7",
   "metadata": {},
   "outputs": [],
   "source": [
    "#23.Write a Python function to insert a string in the middle of a string.\n",
    "def insert_sting_middle(str, word):\n",
    "    return str[:2] + word + str[2:]\n",
    "print(insert_sting_middle('[[]]', 'Python'))\n",
    "print(insert_sting_middle('{{}}', 'PHP'))\n",
    "print(insert_sting_middle('<<>>', 'HTML'))"
   ]
  }
 ],
 "metadata": {
  "kernelspec": {
   "display_name": "Python 3 (ipykernel)",
   "language": "python",
   "name": "python3"
  },
  "language_info": {
   "codemirror_mode": {
    "name": "ipython",
    "version": 3
   },
   "file_extension": ".py",
   "mimetype": "text/x-python",
   "name": "python",
   "nbconvert_exporter": "python",
   "pygments_lexer": "ipython3",
   "version": "3.9.12"
  }
 },
 "nbformat": 4,
 "nbformat_minor": 5
}
