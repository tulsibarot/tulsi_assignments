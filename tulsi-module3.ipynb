{
 "cells": [
  {
   "cell_type": "code",
   "execution_count": null,
   "id": "0125a618",
   "metadata": {},
   "outputs": [],
   "source": [
    "#1.What is List? How will you reverse a list?\n",
    "'''Lists are used to store multiple items in a single variable.\n",
    "Lists are created using square brackets.'''\n",
    "#a.reverse() method is used to reverse the list\n",
    "l=[1,2,3,4,5]\n",
    "l.reverse()\n",
    "print(l)"
   ]
  },
  {
   "cell_type": "code",
   "execution_count": null,
   "id": "3f7ae7dd",
   "metadata": {},
   "outputs": [],
   "source": [
    "#2.How will you remove last object from a list?\n",
    "'using pop we can remove the last element from a list'\n",
    "l=[1,2,3,4,5]\n",
    "l.pop()\n",
    "print(l)\n",
    "#print(l)"
   ]
  },
  {
   "cell_type": "code",
   "execution_count": null,
   "id": "d21225fc",
   "metadata": {},
   "outputs": [],
   "source": [
    "#3.Suppose list1 is [2, 33, 222, 14, and 25], what is list1 [-1]?\n",
    "list1=[2,33,222,14,25]\n",
    "print(list1[-1])\n",
    "#output:25"
   ]
  },
  {
   "cell_type": "code",
   "execution_count": null,
   "id": "c5390dcc",
   "metadata": {},
   "outputs": [],
   "source": [
    "#4.Differentiate between append () and extend () methods?\n",
    "l=[1,2,3,4]\n",
    "l.append([5,6])\n",
    "print(l)\n",
    "#output:[1, 2, 3, 4, [5, 6]] it add as a single element \n",
    "l=[1,2,3,4]\n",
    "l.extend([5,6])\n",
    "print(l)\n",
    "#output:[1, 2, 3, 4, 5, 6] it add as a iterable"
   ]
  },
  {
   "cell_type": "code",
   "execution_count": null,
   "id": "02c04c4e",
   "metadata": {},
   "outputs": [],
   "source": [
    "#5.Write a Python function to get the largest number, smallest num and sum of all from a list\n",
    "def num(a):\n",
    "    a.sort()\n",
    "    print(\"largest num is:\")\n",
    "    print(a[:1])\n",
    "    print(\"smallest num is:\")\n",
    "    print(a[-1:])\n",
    "    print(\"sum of all the number is:\")\n",
    "    global sum\n",
    "    sum=sum(a)\n",
    "    print(sum)    \n",
    "num([1,2,4,3,5])\n"
   ]
  },
  {
   "cell_type": "code",
   "execution_count": null,
   "id": "9a54cf13",
   "metadata": {},
   "outputs": [],
   "source": [
    "#6.How will you compare two lists?\n",
    "l1=[1,2,4,3,5]\n",
    "l2=[1,3,4,2,5]\n",
    "l1.sort()\n",
    "l2.sort()\n",
    "if l1==l2:\n",
    "    print(\"true\")\n",
    "else:\n",
    "    print(\"false\")"
   ]
  },
  {
   "cell_type": "code",
   "execution_count": null,
   "id": "cb0d7ce8",
   "metadata": {},
   "outputs": [],
   "source": [
    "#7.Write a Python program to count the number of strings where the string length is 2 or more and the\n",
    "# first and last character are same from a given list of strings.\n"
   ]
  },
  {
   "cell_type": "code",
   "execution_count": null,
   "id": "44887fa9",
   "metadata": {},
   "outputs": [],
   "source": [
    "#8.Write a Python program to remove duplicates from a list.\n",
    "l= [1,1,2,3,2,2,4,5,6,2,1]\n",
    "fl= set(l)\n",
    "print(list(fl))"
   ]
  },
  {
   "cell_type": "code",
   "execution_count": null,
   "id": "4826936a",
   "metadata": {},
   "outputs": [],
   "source": [
    "***#9.Write a Python program to check a list is empty or not.\n",
    "l=list(input())\n",
    "length=len(l)\n",
    "if length==0:\n",
    "    print(\"list is empty\")\n",
    "else:\n",
    "    print(\"list is not empty\")"
   ]
  },
  {
   "cell_type": "code",
   "execution_count": null,
   "id": "8264396d",
   "metadata": {},
   "outputs": [],
   "source": [
    "#10.Write a Python function that takes two lists and returns true if they have at least one common \n",
    "#member.\n",
    "def common(l1,l2):\n",
    "    a=set(l1).intersection(set(l2))\n",
    "    if a!=0:\n",
    "        print(\"true\")\n",
    "common([1,2,3,4],[2,3,6,7])"
   ]
  },
  {
   "cell_type": "code",
   "execution_count": null,
   "id": "9f2b2e30",
   "metadata": {},
   "outputs": [],
   "source": [
    "#11.Write a Python program to generate and print a list of first and last 5 elements where the values\n",
    "#are square of numbers between 1 and 30.\n",
    "def printval():\n",
    "    l=list()\n",
    "    for i in range(1,31):\n",
    "         l.append(i**2)\n",
    "    print(l[:5])\n",
    "    print(l[-5:])\n",
    "printval()\n",
    "    "
   ]
  },
  {
   "cell_type": "code",
   "execution_count": null,
   "id": "eabd60f6",
   "metadata": {},
   "outputs": [],
   "source": [
    "#12.Write a Python function that takes a list and returns a new list with unique elements of the first\n",
    "#list.\n",
    "def unique(l):\n",
    "    a=[]\n",
    "    for i in l:\n",
    "        if i not in a:\n",
    "            a.append(i)\n",
    "    print(a)\n",
    "unique([1,2,2,3,4,3,5])"
   ]
  },
  {
   "cell_type": "code",
   "execution_count": null,
   "id": "87c95d24",
   "metadata": {},
   "outputs": [],
   "source": [
    "#13.Write a Python program to convert a list of characters into a string.\n",
    "l=['a','b','c']\n",
    "a=''.join(l)\n",
    "print(a)"
   ]
  },
  {
   "cell_type": "code",
   "execution_count": null,
   "id": "4e6170d4",
   "metadata": {},
   "outputs": [],
   "source": [
    "#14.Write a Python program to select an item randomly from a list.\n",
    "import random\n",
    "color= ['Red', 'Blue', 'Green', 'White', 'Black']\n",
    "print(random.choice(color))\n"
   ]
  },
  {
   "cell_type": "code",
   "execution_count": null,
   "id": "eab9e078",
   "metadata": {},
   "outputs": [],
   "source": [
    "#15.Write a Python program to find the second smallest number in a list.\n",
    "l=[1,3,2,5,4]\n",
    "l.sort()\n",
    "print(l[1:2])\n"
   ]
  },
  {
   "cell_type": "code",
   "execution_count": null,
   "id": "55a833d7",
   "metadata": {},
   "outputs": [],
   "source": [
    "#16.Write a Python program to get unique values from a list.\n",
    "def unique(l):\n",
    "    a=[]\n",
    "    for i in l:\n",
    "        if i not in a:\n",
    "            a.append(i)\n",
    "    print(a)\n",
    "unique([1,2,2,3,4,3,5])"
   ]
  },
  {
   "cell_type": "code",
   "execution_count": null,
   "id": "a77bb3c6",
   "metadata": {},
   "outputs": [],
   "source": [
    "#17.Write a Python program to check whether a list contains a sub list\n",
    "l=[1,2,3,4,5,6,7]\n",
    "l1=[2,3,4]\n",
    "a=set(l1).issubset(set(l))\n",
    "print(a)"
   ]
  },
  {
   "cell_type": "code",
   "execution_count": null,
   "id": "c217ad42",
   "metadata": {},
   "outputs": [],
   "source": [
    "#18.Write a Python program to split a list into different variables.\n",
    "list=[(1,2,3),(4,5,6)]\n",
    "a,b=list\n",
    "print(a)\n",
    "print(b)"
   ]
  },
  {
   "cell_type": "code",
   "execution_count": null,
   "id": "f1482519",
   "metadata": {},
   "outputs": [],
   "source": [
    "#19.What is tuple? Difference between list and tuple.\n",
    "'''Tuples are used to store multiple items in a single variable.\n",
    "it allows the duplicate values,it is ordered, indexed and immutable data type.\n",
    "major difference between tuple and list is :\n",
    "tuple:immutable data type\n",
    "list:mutable data type.'''"
   ]
  },
  {
   "cell_type": "code",
   "execution_count": null,
   "id": "7396c935",
   "metadata": {},
   "outputs": [],
   "source": [
    "#20.Write a Python program to create a tuple with different data types.\n",
    "_tuple=(\"tuple\",False,2.1,(1,2,3))\n",
    "print(_tuple)"
   ]
  },
  {
   "cell_type": "code",
   "execution_count": null,
   "id": "fbe2593b",
   "metadata": {},
   "outputs": [],
   "source": [
    "#21.Write a Python program to create a tuple with numbers.\n",
    "_tuple=1,2,3,4,5,6\n",
    "print(_tuple)"
   ]
  },
  {
   "cell_type": "code",
   "execution_count": null,
   "id": "1ccd8800",
   "metadata": {},
   "outputs": [],
   "source": [
    "#22.Write a Python program to convert a tuple to a string.\n",
    "t=('t','u','l','s','i')\n",
    "a=''.join(t)\n",
    "print(a)"
   ]
  },
  {
   "cell_type": "code",
   "execution_count": null,
   "id": "7d2e86e3",
   "metadata": {},
   "outputs": [],
   "source": [
    "#23.Write a Python program to check whether an element exists within a tuple.\n",
    "t=('a','b','c',1,2,3)\n",
    "print('b' in t)\n",
    "print(4 in t)"
   ]
  },
  {
   "cell_type": "code",
   "execution_count": null,
   "id": "da0d2bf0",
   "metadata": {},
   "outputs": [],
   "source": [
    "#24.Write a Python program to find the length of a tuple.\n",
    "t=[1,2,3,4,5,6,7,8]\n",
    "print(len(t))"
   ]
  },
  {
   "cell_type": "code",
   "execution_count": null,
   "id": "fc7bcb96",
   "metadata": {},
   "outputs": [],
   "source": [
    "#25.Write a Python program to convert a list to a tuple.\n",
    "l=[1,2,3,4,5]\n",
    "print(tuple(l))"
   ]
  },
  {
   "cell_type": "code",
   "execution_count": null,
   "id": "9f55e8e3",
   "metadata": {},
   "outputs": [],
   "source": [
    "#26.Write a Python program to reverse a tuple.\n",
    "t=(1,2,3,4,5)\n",
    "print(t[::-1])\n"
   ]
  },
  {
   "cell_type": "code",
   "execution_count": null,
   "id": "419d2858",
   "metadata": {},
   "outputs": [],
   "source": [
    "#27.Write a Python program to replace last value of tuples in a list.\n",
    "l = [(10, 20, 40), (40, 50, 60), (70, 80, 90)]\n",
    "print([t[:-1] + (22,) for t in l])"
   ]
  },
  {
   "cell_type": "code",
   "execution_count": null,
   "id": "1bea4af5",
   "metadata": {},
   "outputs": [],
   "source": [
    "#28.Write a Python program to find the repeated items of a tuple.\n",
    "t = (2, 4, 5, 6, 2, 3, 4, 4, 7) \n",
    "print(t)\n",
    "count = t.count(4)\n",
    "print(count)"
   ]
  },
  {
   "cell_type": "code",
   "execution_count": null,
   "id": "8ddec0ae",
   "metadata": {},
   "outputs": [],
   "source": [
    "***#29.Write a Python program to remove an empty tuple(s) from a list of tuples.\n",
    "l = [(), (), (1,), ('a', 'b'), ('a', 'b', 'c'), ('d')]\n",
    "l = [t for t in l if t]\n",
    "print(l)"
   ]
  },
  {
   "cell_type": "code",
   "execution_count": null,
   "id": "0759e19b",
   "metadata": {},
   "outputs": [],
   "source": [
    "***#30.Write a Python program to unzip a list of tuples into individual lists.\n",
    "l = [(1,2), (3,4), (8,9)]\n",
    "print(list(zip(*l)))"
   ]
  },
  {
   "cell_type": "code",
   "execution_count": 1,
   "id": "d40e710c",
   "metadata": {},
   "outputs": [
    {
     "name": "stdout",
     "output_type": "stream",
     "text": [
      "{'a': 1, 'b': 2, 'c': 3, 'd': 4, 'e': 5}\n"
     ]
    }
   ],
   "source": [
    "#31.Write a Python program to convert a list of tuples into a dictionary.\n",
    "t=[('a', 1), ('b', 2), ('c', 3), ('d', 4), ('e', 5)]\n",
    "a=dict(t)\n",
    "print(a)\n"
   ]
  },
  {
   "cell_type": "code",
   "execution_count": null,
   "id": "4fc4414a",
   "metadata": {},
   "outputs": [],
   "source": [
    "#32.How will you create a dictionary using tuples in python?\n",
    "'''To convert a tuple to dictionary in Python, use the dict() method.A dictionary object can be \n",
    "constructed using a dict() function. The dict() function takes a tuple of tuples as an argument and\n",
    "returns the dictionary. Each tuple contains a key-value pair.'''"
   ]
  },
  {
   "cell_type": "code",
   "execution_count": 21,
   "id": "0473906a",
   "metadata": {},
   "outputs": [
    {
     "name": "stdout",
     "output_type": "stream",
     "text": [
      "[2, 4, 3, 1, 0]\n",
      "[0, 1, 2, 3, 4]\n",
      "[4, 3, 2, 1, 0]\n"
     ]
    }
   ],
   "source": [
    "#33.Write a Python script to sort (ascending and descending) a dictionary by value.\n",
    "d = {1: 2, 3: 4, 4: 3, 2: 1, 0: 0}\n",
    "a=list(d.values())\n",
    "print(a)\n",
    "x=a.sort()\n",
    "print(a)\n",
    "y=a.sort(reverse=True)\n",
    "print(a)\n"
   ]
  },
  {
   "cell_type": "code",
   "execution_count": 11,
   "id": "7a4adff8",
   "metadata": {},
   "outputs": [
    {
     "name": "stdout",
     "output_type": "stream",
     "text": [
      "{1: 10, 2: 20, 3: 30, 4: 40, 5: 50, 6: 60}\n"
     ]
    }
   ],
   "source": [
    "#34.Write a Python script to concatenate following dictionaries to create a new one.\n",
    "d1={1:10, 2:20}\n",
    "d2={3:30, 4:40}\n",
    "d3={5:50,6:60}\n",
    "d4 = {}\n",
    "for i in (d1, d2, d3):\n",
    "    d4.update(i)\n",
    "print(d4)"
   ]
  },
  {
   "cell_type": "code",
   "execution_count": 14,
   "id": "fe21b5d0",
   "metadata": {},
   "outputs": [
    {
     "name": "stdout",
     "output_type": "stream",
     "text": [
      "enter the key:5\n",
      "Key is present in the dictionary\n"
     ]
    }
   ],
   "source": [
    "#35.Write a Python script to check if a given key already exists in a dictionary.\n",
    "d = {1: 10, 2: 20, 3: 30, 4: 40, 5: 50, 6: 60}\n",
    "x=int(input(\"enter the key:\"))\n",
    "if x in d:\n",
    "      print('Key is present in the dictionary')\n",
    "else:\n",
    "    print('Key is not present in the dictionary')\n"
   ]
  },
  {
   "cell_type": "code",
   "execution_count": null,
   "id": "3e4b5e6d",
   "metadata": {},
   "outputs": [],
   "source": [
    "#36.How Do You Traverse Through A Dictionary Object In Python?\n",
    "'''To iterate through a dictionary in Python, there are four main approaches can use: \n",
    "1.create a for loop\n",
    "2.use items() for key-value pairs,\n",
    "3.use keys() for dictionary's keys, \n",
    "4.use values() for dictionary's values.'''"
   ]
  },
  {
   "cell_type": "code",
   "execution_count": 16,
   "id": "36730165",
   "metadata": {},
   "outputs": [
    {
     "name": "stdout",
     "output_type": "stream",
     "text": [
      "False\n"
     ]
    }
   ],
   "source": [
    "#37.How Do You Check The Presence Of A Key In A Dictionary?\n",
    "d = {1: 10, 2: 20, 3: 30, 4: 40, 5: 50, 6: 60}\n",
    "print(7 in d)\n"
   ]
  },
  {
   "cell_type": "code",
   "execution_count": 18,
   "id": "843c8a5c",
   "metadata": {},
   "outputs": [
    {
     "name": "stdout",
     "output_type": "stream",
     "text": [
      "{1: 1, 2: 4, 3: 9, 4: 16, 5: 25, 6: 36, 7: 49, 8: 64, 9: 81, 10: 100, 11: 121, 12: 144, 13: 169, 14: 196, 15: 225}\n"
     ]
    }
   ],
   "source": [
    "#38.Write a Python script to print a dictionary where the keys are numbers between 1 and 15.\n",
    "d=dict()\n",
    "for i in range(1,16):\n",
    "    d[i]=i**2\n",
    "print(d)  "
   ]
  },
  {
   "cell_type": "code",
   "execution_count": 22,
   "id": "ed542594",
   "metadata": {},
   "outputs": [
    {
     "name": "stdout",
     "output_type": "stream",
     "text": [
      "True\n",
      "True\n",
      "False\n"
     ]
    }
   ],
   "source": [
    "#39.Write a Python program to check multiple keys exists in a dictionary.\n",
    "student = {'name': 'tulsi','year': '4','id': '2'}\n",
    "print(student.keys() >= {'year', 'name'})\n",
    "print(student.keys() >= {'id', 'name'})\n",
    "print(student.keys() >= {'name', 'tulsi'})"
   ]
  },
  {
   "cell_type": "code",
   "execution_count": 24,
   "id": "83b1e546",
   "metadata": {},
   "outputs": [
    {
     "name": "stdout",
     "output_type": "stream",
     "text": [
      "{2: 'b', 4: 'd', 1: 'a'}\n"
     ]
    }
   ],
   "source": [
    "#40.Write a Python script to merge two Python dictionaries\n",
    "d1 = {1: 'a', 2: 'b'}\n",
    "d2 = {2: 'c', 4: 'd'}\n",
    "d3 = d2.copy()\n",
    "d3.update(d1)\n",
    "print(d3)"
   ]
  },
  {
   "cell_type": "code",
   "execution_count": 25,
   "id": "fbcc5f48",
   "metadata": {},
   "outputs": [
    {
     "name": "stdout",
     "output_type": "stream",
     "text": [
      "{'red': '#FF0000', 'green': '#008000', 'blue': '#0000FF'}\n"
     ]
    }
   ],
   "source": [
    "#41.Write a Python program to map two lists into a dictionary\n",
    "keys = ['red', 'green', 'blue']\n",
    "values = ['#FF0000','#008000', '#0000FF']\n",
    "color= dict(zip(keys, values))\n",
    "print(color)"
   ]
  },
  {
   "cell_type": "code",
   "execution_count": null,
   "id": "e1cdf41a",
   "metadata": {},
   "outputs": [],
   "source": [
    "#42.Write a Python program to combine two dictionary adding values for common keys.\n",
    "# d1 = {'a': 100, 'b': 200, 'c':300}\n",
    "# d2 = {'a': 300, 'b': 200,’d’:400}\n",
    "d1 = {'a': 100, 'b': 200, 'c':300}\n",
    "d2 = {'a': 300, 'b': 200, 'd':400}\n",
    "d3 = dict(d1) \n",
    "d3.update(d2) \n",
    "for i, j in d1.items():\n",
    "    for x, y in d2.items():\n",
    "        if i == x:\n",
    "            d3[i]=(j+y)\n",
    "print(d3)"
   ]
  },
  {
   "cell_type": "code",
   "execution_count": null,
   "id": "58278cf7",
   "metadata": {},
   "outputs": [],
   "source": [
    "#43.Sample output: Counter ({'a': 400, 'b': 400,’d’: 400, 'c': 300})"
   ]
  },
  {
   "cell_type": "code",
   "execution_count": null,
   "id": "e13dec2a",
   "metadata": {},
   "outputs": [],
   "source": [
    "#44.Write a Python program to print all unique values in a dictionary.\n",
    "L = [{\"V\":\"S001\"}, {\"V\": \"S002\"}, {\"VI\": \"S001\"}, {\"VI\": \"S005\"}, {\"VII\":\"S005\"}, {\"V\":\"S009\"}]\n",
    "print(\"Original List: \",L)\n",
    "uvalue = set( val for dic in L for val in dic.values())\n",
    "print(\"Unique Values: \",uvalue)"
   ]
  },
  {
   "cell_type": "code",
   "execution_count": null,
   "id": "70463e38",
   "metadata": {},
   "outputs": [],
   "source": [
    "#45.Why Do You Use the Zip () Method in Python?"
   ]
  },
  {
   "cell_type": "code",
   "execution_count": null,
   "id": "2f5a91b3",
   "metadata": {},
   "outputs": [],
   "source": [
    "#46.Write a Python program to create and display all combinations of letters,selecting each letter\n",
    "#from a different key in a dictionary.\n",
    "#Sample data: {'1': ['a','b'], '2': ['c','d']}\n",
    "#Expected Output:\n",
    "#ac ad bc bd\n",
    "d={'1': ['a','b'], '2': ['c','d']}\n",
    "for x in d['1']:\n",
    "    for y in d['2']:\n",
    "        print(x + y)"
   ]
  },
  {
   "cell_type": "code",
   "execution_count": null,
   "id": "3cbae5fb",
   "metadata": {},
   "outputs": [],
   "source": [
    "#47.Write a Python program to find the highest 3 values in a dictionary\n"
   ]
  },
  {
   "cell_type": "code",
   "execution_count": null,
   "id": "3e24a740",
   "metadata": {},
   "outputs": [],
   "source": [
    "#48. Write a Python program to combine values in python list of dictionaries.\n",
    "Sample data: [{'item': 'item1', 'amount': 400}, {'item': 'item2', 'amount':\n",
    "300},\n",
    "o {'item': 'item1', 'amount': 750}]\n",
    "o Expected Output: Counter ({'item1': 1150, 'item2': 300})"
   ]
  },
  {
   "cell_type": "code",
   "execution_count": null,
   "id": "8fdc41ec",
   "metadata": {},
   "outputs": [],
   "source": [
    "#49.Write a Python program to create a dictionary from a string.\n",
    "#Note: Track the count of the letters from the string. Sample string:'w3resource'\n",
    "#Expected output: {'3': 1,’s’: 1, 'r': 2, 'u': 1, 'w': 1, 'c': 1, 'e': 2, 'o': 1}\n",
    "from collections import defaultdict, Counter\n",
    "str1 = 'w3resource' \n",
    "my_dict = {}\n",
    "for letter in str1:\n",
    "    my_dict[letter] = my_dict.get(letter, 0) + 1\n",
    "print(my_dict)"
   ]
  },
  {
   "cell_type": "code",
   "execution_count": 1,
   "id": "37157d23",
   "metadata": {},
   "outputs": [
    {
     "name": "stdout",
     "output_type": "stream",
     "text": [
      "2\n",
      "4\n",
      "0\n",
      "6\n",
      "8\n"
     ]
    }
   ],
   "source": [
    "l=[1,2,4,0,3.5,6,8]\n",
    "for i in filter(lambda x:x%2==0,l):\n",
    "    print(i)\n"
   ]
  },
  {
   "cell_type": "code",
   "execution_count": null,
   "id": "2df19dad",
   "metadata": {},
   "outputs": [],
   "source": [
    "#50.Write a Python function to calculate the factorial of a number (a nonnegative integer).\n",
    "def factorial(n):\n",
    "    if n<0:\n",
    "        print(\"please enter possitive number---\")\n",
    "    else:\n",
    "        if n == 0:\n",
    "            return 1\n",
    "        else:\n",
    "            return n * factorial(n-1)\n",
    "n=int(input(\"Input a number to compute the factiorial : \"))\n",
    "print(factorial(n))"
   ]
  },
  {
   "cell_type": "code",
   "execution_count": null,
   "id": "92793280",
   "metadata": {},
   "outputs": [],
   "source": [
    "#51.Write a Python function to check whether a number is in a given range.\n",
    "n=input()\n",
    "def check_range(n):\n",
    "    if n in range(1,9):\n",
    "        print( \" %s is in the range\"%str(n))\n",
    "    else :\n",
    "        print(\"The number is outside the given range.\")\n",
    "check_range(n)"
   ]
  },
  {
   "cell_type": "code",
   "execution_count": null,
   "id": "a8d82949",
   "metadata": {},
   "outputs": [],
   "source": [
    "#52.Write a Python function to check whether a number is perfect or not.\n",
    "def perfect_number(n):\n",
    "    sum = 0\n",
    "    for x in range(1, n):\n",
    "        if n % x == 0:\n",
    "            sum += x\n",
    "    return sum == n\n",
    "print(perfect_number(6))"
   ]
  },
  {
   "cell_type": "code",
   "execution_count": null,
   "id": "3eb7dcc7",
   "metadata": {},
   "outputs": [],
   "source": [
    "#53.Write a Python function that checks whether a passed string is palindrome or not.\n",
    "def isPalindrome(string):\n",
    "    left_pos = 0\n",
    "    right_pos = len(string) - 1\n",
    "    \n",
    "    while right_pos >= left_pos:\n",
    "        if not string[left_pos] == string[right_pos]:\n",
    "            return False\n",
    "        left_pos += 1\n",
    "        right_pos -= 1\n",
    "        \n",
    "    return True\n",
    "print(isPalindrome('aba'))"
   ]
  },
  {
   "cell_type": "code",
   "execution_count": null,
   "id": "018c4125",
   "metadata": {},
   "outputs": [],
   "source": [
    "#54.How do you perform pattern matching in Python? Explain"
   ]
  },
  {
   "cell_type": "code",
   "execution_count": null,
   "id": "94105d13",
   "metadata": {},
   "outputs": [],
   "source": [
    "#55.What is lambda function in python? What we call a function which is incomplete version of a \n",
    "#function?\n",
    "''' Lambda Function, also referred to as 'Anonymous function' is same as a regular python function \n",
    "but can be defined without a name. While normal functions are defined using the def keyword, anonymous\n",
    "functions are defined using the lambda keyword.'''"
   ]
  },
  {
   "cell_type": "code",
   "execution_count": null,
   "id": "bab68e20",
   "metadata": {},
   "outputs": [],
   "source": [
    "#56.How Many Basic Types Of Functions Are Available In Python?\n",
    "'''3 types of functions in python:\n",
    "1.built-in\n",
    "2.user-defined\n",
    "3.anonymous(lamda function)'''"
   ]
  },
  {
   "cell_type": "code",
   "execution_count": null,
   "id": "c51cb614",
   "metadata": {},
   "outputs": [],
   "source": [
    "#57.How can you pick a random item from a list or tuple?\n",
    "'''we can pick randomly sample elements from a list and tuple with choice() , sample() , and choices()\n",
    "of the random module.'''"
   ]
  },
  {
   "cell_type": "code",
   "execution_count": null,
   "id": "6dc2e406",
   "metadata": {},
   "outputs": [],
   "source": [
    "#58.How can you pick a random item from a range?\n",
    "'''The randrange() function from random module returns a randomly selected number from range of \n",
    "numbers.'''"
   ]
  },
  {
   "cell_type": "code",
   "execution_count": null,
   "id": "77b8240b",
   "metadata": {},
   "outputs": [],
   "source": [
    "#59.How can you get a random number in python?\n",
    "'''we get ramdom number using choice().which is the method of random module.'''\n"
   ]
  },
  {
   "cell_type": "code",
   "execution_count": null,
   "id": "df1376bc",
   "metadata": {},
   "outputs": [],
   "source": [
    "#60.How will you set the starting value in generating random numbers?\n",
    "'''Use the seed() method to customize the start number of the random number generator.'''"
   ]
  },
  {
   "cell_type": "code",
   "execution_count": null,
   "id": "a1e99593",
   "metadata": {},
   "outputs": [],
   "source": [
    "#61.How will you randomizes the items of a list in place?\n",
    "'''The shuffle() method randomizes the items of a list in place.'''"
   ]
  },
  {
   "cell_type": "code",
   "execution_count": null,
   "id": "aa43c5e3",
   "metadata": {},
   "outputs": [],
   "source": [
    "#62.Write a Python program to read a random line from a file."
   ]
  },
  {
   "cell_type": "code",
   "execution_count": null,
   "id": "98d6721f",
   "metadata": {},
   "outputs": [],
   "source": [
    "#63.Write a Python program to convert degree to radian.\n",
    "pi=22/7\n",
    "degree = float(input(\"Input degrees: \"))\n",
    "radian = degree*(pi/180)\n",
    "print(radian)"
   ]
  },
  {
   "cell_type": "code",
   "execution_count": null,
   "id": "822cf38f",
   "metadata": {},
   "outputs": [],
   "source": [
    "#64.Write a Python program to calculate the area of a trapezoid.\n",
    "base_1 = 5\n",
    "base_2 = 6\n",
    "height = float(input(\"Height of trapezoid: \"))\n",
    "base_1 = float(input('Base one value: '))\n",
    "base_2 = float(input('Base two value: '))\n",
    "area = ((base_1 + base_2) / 2) * height\n",
    "print(\"Area is:\", area)"
   ]
  },
  {
   "cell_type": "code",
   "execution_count": null,
   "id": "0a4108a7",
   "metadata": {},
   "outputs": [],
   "source": [
    "#65.Write a Python program to calculate the area of a parallelogram.\n",
    "base = float(input('Length of base: '))\n",
    "height = float(input('Measurement of height: '))\n",
    "area = base * height\n",
    "print(\"Area is: \", area)"
   ]
  },
  {
   "cell_type": "code",
   "execution_count": null,
   "id": "49dbb075",
   "metadata": {},
   "outputs": [],
   "source": [
    "#66.Write a Python program to calculate surface volume and area of a cylinder.\n",
    "pi=22/7\n",
    "height = float(input('Height of cylinder: '))\n",
    "radian = float(input('Radius of cylinder: '))\n",
    "volume = pi * radian * radian * height\n",
    "sur_area = ((2*pi*radian) * height) + ((pi*radian**2)*2)\n",
    "print(\"Volume is: \", volume)\n",
    "print(\"Surface Area is: \", sur_area)"
   ]
  },
  {
   "cell_type": "code",
   "execution_count": null,
   "id": "8ee9e0d8",
   "metadata": {},
   "outputs": [],
   "source": [
    "#67.Write a Python program to returns sum of all divisors of a number.\n",
    "def sum_div(number):\n",
    "    divisors = [1]\n",
    "    for i in range(2, number):\n",
    "        if (number % i)==0:\n",
    "            divisors.append(i)\n",
    "    return sum(divisors)\n",
    "print(sum_div(8))\n",
    "print(sum_div(12))"
   ]
  },
  {
   "cell_type": "code",
   "execution_count": null,
   "id": "55e20eea",
   "metadata": {},
   "outputs": [],
   "source": [
    "#68.Write a Python program to find the maximum and minimum numbers from the specified decimal numbers.\n",
    "from decimal import *\n",
    "data = list(map(Decimal, '2.45 2.69 2.45 3.45 2.00 0.04 7.25'.split()))\n",
    "print(\"Maximum: \", max(data))\n",
    "print(\"Minimum: \", min(data))"
   ]
  }
 ],
 "metadata": {
  "kernelspec": {
   "display_name": "Python 3 (ipykernel)",
   "language": "python",
   "name": "python3"
  },
  "language_info": {
   "codemirror_mode": {
    "name": "ipython",
    "version": 3
   },
   "file_extension": ".py",
   "mimetype": "text/x-python",
   "name": "python",
   "nbconvert_exporter": "python",
   "pygments_lexer": "ipython3",
   "version": "3.9.12"
  }
 },
 "nbformat": 4,
 "nbformat_minor": 5
}
