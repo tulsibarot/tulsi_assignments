{
 "cells": [
  {
   "cell_type": "code",
   "execution_count": null,
   "id": "e668e9a0",
   "metadata": {},
   "outputs": [],
   "source": [
    "#1.What is File function in python? What is keywords to create and write file.\n",
    "'''This function returns a file object, also called a handle, as it is used to \n",
    "read or modify the file accordingly. We can specify the mode while opening a \n",
    "file. In mode, we specify whether we want to read r , write w or append a to\n",
    "the file. We can also specify if we want to open the file in text mode or \n",
    "binary mode.'''"
   ]
  },
  {
   "cell_type": "code",
   "execution_count": null,
   "id": "965d0eeb",
   "metadata": {},
   "outputs": [],
   "source": [
    "#2.Write a Python program to read an entire text file.\n",
    "f1 = open(\"tulsi.txt\",\"w\")\n",
    "f1.write(\"this is frist line,\\n this is second line\\n this is third line.\")\n",
    "f1 = open(\"tulsi.txt\",'r')\n",
    "f1.close()"
   ]
  },
  {
   "cell_type": "code",
   "execution_count": null,
   "id": "70f03ed5",
   "metadata": {},
   "outputs": [],
   "source": [
    "#3.Write a Python program to append text to a file and display the text.\n",
    "f1 = open(\"saleha.txt\",'a')\n",
    "f1.write(\"python is programming langugue.\")\n",
    "f1.close()"
   ]
  },
  {
   "cell_type": "code",
   "execution_count": null,
   "id": "775916c2",
   "metadata": {},
   "outputs": [],
   "source": [
    "#4.Write a Python program to read first n lines of a file.\n",
    "def file_read_from_head(fname, nlines):\n",
    "    from itertools import islice \n",
    "    with open(fname) as f:\n",
    "        for line in islice(f, nlines):\n",
    "            print(line)\n",
    "file_read_from_head('tulsi.txt',3)"
   ]
  },
  {
   "cell_type": "code",
   "execution_count": null,
   "id": "a3bba767",
   "metadata": {},
   "outputs": [],
   "source": [
    "#5.Write a Python program to read last n lines of a file.\n",
    "def LastNlines(fname, N):\n",
    "    with open(fname) as file:\n",
    "        for line in (file.readlines() [-N:]):\n",
    "            print(line, end ='')\n",
    "\n",
    "LastNlines('test1.txt', 3)"
   ]
  },
  {
   "cell_type": "code",
   "execution_count": null,
   "id": "463c0567",
   "metadata": {},
   "outputs": [],
   "source": [
    "#6.Write a Python program to read a file line by line and store it into a list.\n",
    "A = [\"apple\",\"bat\",\"cat\",\"dog\",\"elephant\"]\n",
    "\n",
    "f1 = open('tulsi0.txt', 'w')\n",
    "f1.writelines(A)\n",
    "f1.close()\n",
    "\n",
    "f1 = open('tulsi0.txt', 'r')\n",
    "Lines = f1.readlines()\n",
    "\n",
    "count = 0\n",
    "for line in Lines:\n",
    "    count += 1\n",
    "    print(line)\n",
    "    \n",
    "f1.close()"
   ]
  },
  {
   "cell_type": "code",
   "execution_count": null,
   "id": "e8cc073c",
   "metadata": {},
   "outputs": [],
   "source": [
    "#7.Write a Python program to read a file line by line store it into a variable.\n",
    "f1= open('python.txt','w')\n",
    "f1.writelines('I am learning python')\n",
    "f1.close()"
   ]
  },
  {
   "cell_type": "code",
   "execution_count": null,
   "id": "5b90da31",
   "metadata": {},
   "outputs": [],
   "source": [
    "#8.Write a python program to find the longest words.\n",
    "def largestWord(s):\n",
    "    \n",
    "    s = sorted(s, key = len)\n",
    "    print(s[-1])\n",
    " \n",
    "\n",
    "s = \"a probability distibution is a mathematical function.\"\n",
    "\n",
    "l = list(s.split(\" \"))\n",
    "largestWord(l)"
   ]
  },
  {
   "cell_type": "code",
   "execution_count": null,
   "id": "d435e813",
   "metadata": {},
   "outputs": [],
   "source": [
    "#9.Write a Python program to count the number of lines in a text file.\n",
    "with open(r\"test1.txt\", 'r') as fp:\n",
    "    lines = len(fp.readlines())\n",
    "    print('Total Number of lines:', lines)"
   ]
  },
  {
   "cell_type": "code",
   "execution_count": null,
   "id": "884c8a7d",
   "metadata": {},
   "outputs": [],
   "source": [
    "#10.Write a Python program to count the frequency of words in a file.\n",
    "from collections import Counter\n",
    "def word_count(fname):\n",
    "        with open(fname) as f:\n",
    "                return Counter(f.read().split())\n",
    "\n",
    "print(\"Number of words in the file :\",word_count(\"test.txt\"))"
   ]
  },
  {
   "cell_type": "code",
   "execution_count": null,
   "id": "5ad1cc72",
   "metadata": {},
   "outputs": [],
   "source": [
    "#11.Write a Python program to write a list to a file.\n",
    "names = ['Shreya', 'Tulsi', 'Saleha']\n",
    "with open(r'E:/demos/files_demos/account/sales.txt', 'w') as fp:\n",
    "    for item in names:\n",
    "        fp.write(\"%s\\n\" % item)\n",
    "    print('Done')"
   ]
  },
  {
   "cell_type": "code",
   "execution_count": null,
   "id": "e5191ca0",
   "metadata": {},
   "outputs": [],
   "source": [
    "#12.Write a Python program to copy the contents of a file to another file.\n",
    "from shutil import copyfile\n",
    "copyfile('test.py', 'abc.py')"
   ]
  },
  {
   "cell_type": "code",
   "execution_count": null,
   "id": "e9734efd",
   "metadata": {},
   "outputs": [],
   "source": [
    "#13.Explain Exception handling? What is an Error in Python?\n",
    "'''An Exception is an error that happens during the execution of a program.\n",
    "Whenever there is an error, Python generates an exception that could be \n",
    "handled. It basically prevents the program from getting crashed.'''"
   ]
  },
  {
   "cell_type": "code",
   "execution_count": null,
   "id": "bb7acce0",
   "metadata": {},
   "outputs": [],
   "source": [
    "#14.How many except statements can a try-except block have? Name Some built-in\n",
    "#exception classes.\n",
    "'''There has to be at least one except statement.\n",
    "ArgumentException\n",
    "ArgumentNullException\n",
    "ArgumentOutOfRangeException\n",
    "DivideByZeroException\n",
    "FileNotFoundException\n",
    "'''\n"
   ]
  },
  {
   "cell_type": "code",
   "execution_count": null,
   "id": "f4982151",
   "metadata": {},
   "outputs": [],
   "source": [
    "#15.When will the else part of try-except-else be executed?"
   ]
  },
  {
   "cell_type": "code",
   "execution_count": null,
   "id": "cac381d7",
   "metadata": {},
   "outputs": [],
   "source": [
    "#16.Can one block of except statements handle multiple exception?\n",
    "'''Each type of exception can be specified directly. There is no need to put it\n",
    "in a list.'''"
   ]
  },
  {
   "cell_type": "code",
   "execution_count": null,
   "id": "1ebe98ee",
   "metadata": {},
   "outputs": [],
   "source": [
    "#17.When is the finally block executed?\n",
    "'''The finally block always executes when the try block exits. This ensures \n",
    "that the finally block is executed even if an unexpected exception occurs.'''"
   ]
  },
  {
   "cell_type": "code",
   "execution_count": null,
   "id": "6673d366",
   "metadata": {},
   "outputs": [],
   "source": [
    "#18.What happens when „1‟== 1 is executed?\n",
    "'''it simply evaluates to false and does not raise any exception.'''"
   ]
  },
  {
   "cell_type": "code",
   "execution_count": null,
   "id": "640cbfae",
   "metadata": {},
   "outputs": [],
   "source": [
    "#19.How Do You Handle Exceptions With Try/Except/Finally In Python? Explain \n",
    "#with coding snippets."
   ]
  },
  {
   "cell_type": "code",
   "execution_count": null,
   "id": "8d6386bc",
   "metadata": {},
   "outputs": [],
   "source": [
    "#20.Write python program that user to enter only odd numbers, else will raise\n",
    "#an exception.\n",
    "a = int(input())\n",
    "if a%2 != 0:\n",
    "    print(\"this is not a match number\")\n",
    "else:\n",
    "    print(\"this is odd number\")"
   ]
  },
  {
   "cell_type": "code",
   "execution_count": null,
   "id": "8ae14956",
   "metadata": {},
   "outputs": [],
   "source": [
    "#21.What are oops concepts? Is multiple inheritance supported in java.\n",
    "'''Multiple Inheritance is a feature of an object-oriented concept, where a \n",
    "class can inherit properties of more than one parent class. The problem occurs \n",
    "when there exist methods with the same signature in both the superclasses and \n",
    "subclass.'''"
   ]
  },
  {
   "cell_type": "code",
   "execution_count": null,
   "id": "88fc0a6a",
   "metadata": {},
   "outputs": [],
   "source": [
    "#22.How to Define a Class in Python? What Is Self? Give An Example Of A Python\n",
    "#Class.\n",
    "'''Create a class named Person, use the __init__() function to assign values \n",
    "for name and age: class Person: def __init__(self, name, age): \n",
    "self.name = name.'''"
   ]
  },
  {
   "cell_type": "code",
   "execution_count": null,
   "id": "67ccacc5",
   "metadata": {},
   "outputs": [],
   "source": [
    "#23.Write a Python class named Rectangle constructed by a length and width and \n",
    "#a method which will compute the area of a rectangle.\n",
    "class Rectangle():\n",
    "    def __init__(self, l, w):\n",
    "        self.length = l\n",
    "        self.width  = w\n",
    "\n",
    "    def rectangle_area(self):\n",
    "        return self.length*self.width\n",
    "\n",
    "newRectangle = Rectangle(15, 20)\n",
    "print(newRectangle.rectangle_area())"
   ]
  },
  {
   "cell_type": "code",
   "execution_count": null,
   "id": "f0aa7050",
   "metadata": {},
   "outputs": [],
   "source": [
    "#24.Write a Python class named Circle constructed by a radius and two methods \n",
    "#which will compute the area and the perimeter of a circle\n",
    "class Circle():\n",
    "    def __init__(self, r):\n",
    "        self.radius = r\n",
    "\n",
    "    def area(self):\n",
    "        return self.radius**2*3.14\n",
    "    \n",
    "    def pmeter(self):\n",
    "        return 2*self.radius*3.14\n",
    "\n",
    "c = Circle(5)\n",
    "print(c.area())\n",
    "print(c.pmeter())"
   ]
  },
  {
   "cell_type": "code",
   "execution_count": null,
   "id": "ab28240b",
   "metadata": {},
   "outputs": [],
   "source": [
    "#25.Explain Inheritance in Python with an example? What is init? Or What Is A\n",
    "#Constructor In Python?"
   ]
  },
  {
   "cell_type": "code",
   "execution_count": null,
   "id": "10d8bfff",
   "metadata": {},
   "outputs": [],
   "source": [
    "#26.What is Instantiation in terms of OOP terminology?\n",
    "'''In the OOP language C#, instantiation describes the processes of creating a\n",
    "new object for a class using a new keyword.'''"
   ]
  },
  {
   "cell_type": "code",
   "execution_count": null,
   "id": "ace984fd",
   "metadata": {},
   "outputs": [],
   "source": [
    "#27.What is used to check whether an object o is an instance of class A?\n",
    "'''Using isinstance() function, we can test whether an object/variable is an \n",
    "instance of the specified type or class such as int or list. In the case of \n",
    "inheritance, we can checks if the specified class is the parent class of an\n",
    "object. For example, isinstance(x, int) to check if x is an instance of a class\n",
    "int'''"
   ]
  },
  {
   "cell_type": "code",
   "execution_count": null,
   "id": "5b404dab",
   "metadata": {},
   "outputs": [],
   "source": [
    "#28.What relationship is appropriate for Course and Faculty?"
   ]
  },
  {
   "cell_type": "code",
   "execution_count": null,
   "id": "f5707c87",
   "metadata": {},
   "outputs": [],
   "source": [
    "#29.What relationship is appropriate for Student and Person?"
   ]
  }
 ],
 "metadata": {
  "kernelspec": {
   "display_name": "Python 3 (ipykernel)",
   "language": "python",
   "name": "python3"
  },
  "language_info": {
   "codemirror_mode": {
    "name": "ipython",
    "version": 3
   },
   "file_extension": ".py",
   "mimetype": "text/x-python",
   "name": "python",
   "nbconvert_exporter": "python",
   "pygments_lexer": "ipython3",
   "version": "3.9.12"
  }
 },
 "nbformat": 4,
 "nbformat_minor": 5
}
