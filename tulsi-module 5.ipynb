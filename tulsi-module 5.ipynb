{
 "cells": [
  {
   "cell_type": "code",
   "execution_count": 2,
   "id": "dfdbbf39",
   "metadata": {},
   "outputs": [],
   "source": [
    "#why Django should be used for web-development? Explain how you can create aa project in Django?\n",
    "#Ans:-Django helps the developers to make an application as fast as possible.\n",
    "#Django helps in creating web apps, both cost-effective and efficient. \n",
    "# python -m venv myenv\n",
    "# myenv\\Scripts\\activate\n",
    "# pip install django\n",
    "# django-admin startproject mysite.\n",
    "# django-admin startapp mysite\n",
    "# python manage.py runserver"
   ]
  },
  {
   "cell_type": "code",
   "execution_count": null,
   "id": "9af15867",
   "metadata": {},
   "outputs": [],
   "source": [
    "#How to check installed version of django?\n",
    "#Ans:-py -m django --version\n"
   ]
  },
  {
   "cell_type": "code",
   "execution_count": null,
   "id": "69b5c0ba",
   "metadata": {},
   "outputs": [],
   "source": [
    "#Mention what command line can be used to load data into Django?\n",
    "#Ans:-Django loaddata is a command used for pre-populating database with data, especially during the development phase.\n",
    "#Data is loaded from fixture files that represent serialized data.\n",
    "$ django-admin loaddata fixture\n",
    "$ manage.py loaddata fixture\n",
    "$ python -m django loaddata fixture"
   ]
  },
  {
   "cell_type": "code",
   "execution_count": null,
   "id": "89af1918",
   "metadata": {},
   "outputs": [],
   "source": [
    "#Explain what does django-admin.py make messages command is used for?\n",
    "#Ans:-django-admin is Django’s command-line utility for administrative tasks. This document outlines all it can do. \n",
    "#In addition, manage.py is automatically created in each Django project."
   ]
  },
  {
   "cell_type": "code",
   "execution_count": null,
   "id": "bc491758",
   "metadata": {},
   "outputs": [],
   "source": [
    "#What is a QuerySet?Write program to create a new Post object in database:\n",
    "#Ans:-A QuerySet is a collection of data from a database.\n",
    "#A QuerySet is built up as a list of objects.\n",
    "#CREATE TABLE [schema.]table\n",
    "#               (column datatype [DEFAULT expr][, ...]);"
   ]
  },
  {
   "cell_type": "code",
   "execution_count": 1,
   "id": "498a8ad8",
   "metadata": {},
   "outputs": [],
   "source": [
    "#What is .Django URLs?make program to create django urls\n",
    "#Ans:-URLs are the front door to your web application in Django. \n",
    "from django.conf.urls import path, include, url\n",
    "from . import views\n",
    "\n",
    "urlpatterns (\n",
    "    path('index/',views.index,name=\"index\")\n",
    ")\n"
   ]
  }
 ],
 "metadata": {
  "kernelspec": {
   "display_name": "Python 3 (ipykernel)",
   "language": "python",
   "name": "python3"
  },
  "language_info": {
   "codemirror_mode": {
    "name": "ipython",
    "version": 3
   },
   "file_extension": ".py",
   "mimetype": "text/x-python",
   "name": "python",
   "nbconvert_exporter": "python",
   "pygments_lexer": "ipython3",
   "version": "3.9.12"
  }
 },
 "nbformat": 4,
 "nbformat_minor": 5
}
